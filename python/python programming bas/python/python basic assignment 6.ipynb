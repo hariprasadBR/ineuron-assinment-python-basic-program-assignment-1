{
 "cells": [
  {
   "cell_type": "markdown",
   "id": "bea9eb8a",
   "metadata": {},
   "source": [
    "#### 1. What are escape characters, and how do you use them?"
   ]
  },
  {
   "cell_type": "markdown",
   "id": "782e1979",
   "metadata": {},
   "source": [
    "Escape characters represent characters in string values that would otherwise be difficult or impossible to type into code. we can use the backslash character to escape a single character or symbol\n",
    "example: \\t, \\n"
   ]
  },
  {
   "cell_type": "markdown",
   "id": "12886175",
   "metadata": {},
   "source": [
    "#### 2. What do the escape characters n and t stand for?"
   ]
  },
  {
   "cell_type": "markdown",
   "id": "815014d0",
   "metadata": {},
   "source": [
    "\\n is a newline, \\t is a tab"
   ]
  },
  {
   "cell_type": "markdown",
   "id": "9e691d84",
   "metadata": {},
   "source": [
    "#### 3. What is the way to include backslash characters in a string?"
   ]
  },
  {
   "cell_type": "markdown",
   "id": "0ec96b23",
   "metadata": {},
   "source": [
    "#Use the syntax \"\\\\\" within the string literal to represent a single backslash.he \\\\ escape character will represent the backslash character in a string\n",
    "\n",
    "text = \"\\\\ \"\n",
    "text"
   ]
  },
  {
   "cell_type": "markdown",
   "id": "1effee5c",
   "metadata": {},
   "source": [
    "#### 4. The string \"Howl's Moving Castle\" is a correct value. Why isn't the single quote character in the word Howl's not escaped a problem?"
   ]
  },
  {
   "cell_type": "markdown",
   "id": "07478860",
   "metadata": {},
   "source": [
    "The string \"Howl's Moving Castle\" escaped the problem because it is wrapped inside double quotes. if its wrapped inside single quotes then we have to use escape character \\' to show single quote in the final output\n",
    "'Howl\\'s Moving Castle' -> 'Howl's Moving Castle'"
   ]
  },
  {
   "cell_type": "markdown",
   "id": "d81b05af",
   "metadata": {},
   "source": [
    "#### 5. How do you write a string of newlines if you don't want to use the n character?"
   ]
  },
  {
   "cell_type": "code",
   "execution_count": 7,
   "id": "04988a44",
   "metadata": {},
   "outputs": [
    {
     "name": "stdout",
     "output_type": "stream",
     "text": [
      "iNeuron full stack\n",
      "Data Science Course\n"
     ]
    }
   ],
   "source": [
    "### Multiline string allow you to use newlines in string without the \\n escape character\n",
    "\n",
    "# Example:\n",
    "a = '''iNeuron full stack\n",
    "Data Science Course'''\n",
    "print(a)"
   ]
  },
  {
   "cell_type": "markdown",
   "id": "73ae5127",
   "metadata": {},
   "source": [
    "#### 6. What are the values of the given expressions?\n",
    "- 'Hello, world!'[1]\n",
    "- 'Hello, world!'[0:5]\n",
    "- 'Hello, world!'[:5]\n",
    "- 'Hello, world!'[3:]"
   ]
  },
  {
   "cell_type": "code",
   "execution_count": 12,
   "id": "ab6b02fe",
   "metadata": {},
   "outputs": [
    {
     "name": "stdout",
     "output_type": "stream",
     "text": [
      "Hello, world![1]--> e\n",
      "Hello, world![0:5]---> Hello\n",
      "Hello, world![:5]---> Hello\n",
      "Hello, world![3:]---> lo, world!\n"
     ]
    }
   ],
   "source": [
    "print('Hello, world![1]-->','Hello, world!'[1])\n",
    "print('Hello, world![0:5]--->','Hello, world!'[0:5])\n",
    "print('Hello, world![:5]--->','Hello, world!'[:5])\n",
    "print('Hello, world![3:]--->','Hello, world!'[3:])"
   ]
  },
  {
   "cell_type": "markdown",
   "id": "c7c80305",
   "metadata": {},
   "source": [
    "7. What are the values of the following expressions?\n",
    "- 'Hello'.upper()\n",
    "- 'Hello'.upper().isupper()\n",
    "- 'Hello'.upper().lower()"
   ]
  },
  {
   "cell_type": "code",
   "execution_count": 13,
   "id": "7308e7f7",
   "metadata": {},
   "outputs": [
    {
     "name": "stdout",
     "output_type": "stream",
     "text": [
      "Hello.upper()--> HELLO\n",
      "Hello.upper().isupper()---> True\n",
      "Hello.upper().lower()--------> hello\n"
     ]
    }
   ],
   "source": [
    "print('Hello.upper()-->','Hello'.upper())\n",
    "print('Hello.upper().isupper()--->','Hello'.upper().isupper())\n",
    "print('Hello.upper().lower()-------->','Hello'.upper().lower())\n"
   ]
  },
  {
   "cell_type": "markdown",
   "id": "6686612c",
   "metadata": {},
   "source": [
    "8. What are the values of the following expressions?\n",
    "- 'Remember, remember, the fifth of July.'.split()\n",
    "- '-'.join('There can only one.'.split())"
   ]
  },
  {
   "cell_type": "code",
   "execution_count": 16,
   "id": "63e97739",
   "metadata": {},
   "outputs": [
    {
     "name": "stdout",
     "output_type": "stream",
     "text": [
      "Remember, remember, the fifth of July.'.split()======> ['Remember,', 'remember,', 'the', 'fifth', 'of', 'July.']\n",
      "'-'.join('There can only one.'.split())========> There-can-only-one.\n"
     ]
    }
   ],
   "source": [
    "print(\"Remember, remember, the fifth of July.'.split()======>\",'Remember, remember, the fifth of July.'.split())\n",
    "print(\"'-'.join('There can only one.'.split())========>\",'-'.join('There can only one.'.split()))"
   ]
  },
  {
   "cell_type": "markdown",
   "id": "59cb6837",
   "metadata": {},
   "source": [
    "#### 9. What are the methods for right-justifying, left-justifying, and centering a string?"
   ]
  },
  {
   "cell_type": "markdown",
   "id": "85b14ba6",
   "metadata": {},
   "source": [
    "The rjust(),ljust(),center() string methods, respectively"
   ]
  },
  {
   "cell_type": "markdown",
   "id": "05ee6b86",
   "metadata": {},
   "source": [
    "#### 10. What is the best way to remove whitespace characters from the start or end?"
   ]
  },
  {
   "cell_type": "markdown",
   "id": "f7bc905f",
   "metadata": {},
   "source": [
    "The lstrip() and rstrip() methods remove whitesapce characters from the left and right ends of a string respectively"
   ]
  },
  {
   "cell_type": "code",
   "execution_count": null,
   "id": "b1b54cd6",
   "metadata": {},
   "outputs": [],
   "source": []
  }
 ],
 "metadata": {
  "kernelspec": {
   "display_name": "Python 3 (ipykernel)",
   "language": "python",
   "name": "python3"
  },
  "language_info": {
   "codemirror_mode": {
    "name": "ipython",
    "version": 3
   },
   "file_extension": ".py",
   "mimetype": "text/x-python",
   "name": "python",
   "nbconvert_exporter": "python",
   "pygments_lexer": "ipython3",
   "version": "3.9.7"
  }
 },
 "nbformat": 4,
 "nbformat_minor": 5
}
