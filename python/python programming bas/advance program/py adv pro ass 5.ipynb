{
 "cells": [
  {
   "cell_type": "markdown",
   "id": "70d44e18",
   "metadata": {},
   "source": [
    "#### 1. Create a function that takes a number n (integer greater than zero) as an argument, and returns 2 if n is odd and 8 if n is even.\n",
    "\n",
    "You can only use the following arithmetic operators: addition of numbers +, subtraction of numbers -, multiplication of number *, division of number /, and exponentiation **.\n",
    "\n",
    "You are not allowed to use any other methods in this challenge (i.e. no if statements, comparison operators, etc).\n",
    "\n",
    "Examples\n",
    "\n",
    "f(1) ➞ 2\n",
    "\n",
    "f(2) ➞ 8\n",
    "\n",
    "f(3) ➞ 2\n"
   ]
  },
  {
   "cell_type": "code",
   "execution_count": 105,
   "id": "467c03ee",
   "metadata": {},
   "outputs": [
    {
     "name": "stdout",
     "output_type": "stream",
     "text": [
      "f(1)➞ 2\n",
      "f(2)➞ 8\n",
      "f(3)➞ 2\n"
     ]
    }
   ],
   "source": [
    "def f(in_num):\n",
    "    output = [8,2]\n",
    "    print(f'f({in_num})➞ {output[in_num&1]}')\n",
    "    \n",
    "\n",
    "    \n",
    "    \n",
    "f(1)\n",
    "f(2)\n",
    "f(3)\n",
    "\n"
   ]
  },
  {
   "cell_type": "markdown",
   "id": "87dd80e0",
   "metadata": {},
   "source": [
    "#### 2. Create a function that returns the majority vote in a list. A majority vote is an element that occurs > N/2 times in a list (where N is the length of the list).\n",
    "\n",
    "Examples\n",
    "\n",
    "majority_vote([\"A\", \"A\", \"B\"]) ➞ \"A\"\n",
    "\n",
    "majority_vote([\"A\", \"A\", \"A\", \"B\", \"C\", \"A\"]) ➞ \"A\"\n",
    "\n",
    "majority_vote([\"A\", \"B\", \"B\", \"A\", \"C\", \"C\"]) ➞ None\n",
    "\n",
    "\n"
   ]
  },
  {
   "cell_type": "code",
   "execution_count": 28,
   "id": "b91452ff",
   "metadata": {},
   "outputs": [
    {
     "name": "stdout",
     "output_type": "stream",
     "text": [
      "majority_vote(['A', 'A', 'B']) ➞ A\n",
      "majority_vote(['A', 'A', 'A', 'B', 'C', 'A']) ➞ A\n",
      "majority_vote(['A', 'B', 'B', 'A', 'C', 'C']) ➞ None\n"
     ]
    }
   ],
   "source": [
    "def majority_vote(in_list):\n",
    "    out_list = None\n",
    "    for ele in set(in_list):\n",
    "        if in_list.count(ele) > (len(in_list)/2):\n",
    "            out_list = ele\n",
    "    print(f'majority_vote({in_list}) ➞ {out_list}')\n",
    "    \n",
    "majority_vote([\"A\", \"A\", \"B\"])\n",
    "majority_vote([\"A\", \"A\", \"A\", \"B\", \"C\", \"A\"])\n",
    "majority_vote([\"A\", \"B\", \"B\", \"A\", \"C\", \"C\"])"
   ]
  },
  {
   "cell_type": "markdown",
   "id": "d475bf7a",
   "metadata": {},
   "source": [
    "#### 3.Create a function that takes a string txt and censors any word from a given list lst. The text removed must be replaced by the given character char.\n",
    "\n",
    "Examples:\n",
    "censor_string(\"Today is a Wednesday!\", [\"Today\", \"a\"], \"-\") ➞ \"----- is - Wednesday!\"\n",
    "\n",
    "censor_string(\"The cow jumped over the moon.\", [\"cow\", \"over\"], \"*\"), \"The *** jumped **** the moon.\")\n",
    "\n",
    "censor_string(\"Why did the chicken cross the road ?\", [\"Did\", \"chicken\", \"road\"], \"*\") ➞ \"Why *** the ******* cross the ****?\""
   ]
  },
  {
   "cell_type": "code",
   "execution_count": 106,
   "id": "9aabdde9",
   "metadata": {},
   "outputs": [
    {
     "name": "stdout",
     "output_type": "stream",
     "text": [
      "censor_string(Today is a Wednesday!) ➞ ----- is - Wednesday!\n",
      "censor_string(The cow jumped over the moon.) ➞ The *** jumped **** the moon.\n",
      "censor_string(Why did the chicken cross the road ?) ➞ Why *** the ******* cross the **** ?\n"
     ]
    }
   ],
   "source": [
    "def censor_string(in_string_1, in_string_2, rep_char):\n",
    "    out_string = []\n",
    "    for ele in in_string_1.split():\n",
    "        if ele.title() in in_string_2 or ele.lower() in in_string_2 or ele.upper() in in_string_2:\n",
    "            out_string.append(rep_char*len(ele))\n",
    "        else:\n",
    "            out_string.append(ele)\n",
    "    print(f'censor_string({in_string_1}) ➞ {\" \".join(out_string)}')\n",
    "\n",
    "censor_string(\"Today is a Wednesday!\", [\"Today\", \"a\"], \"-\")\n",
    "censor_string(\"The cow jumped over the moon.\", [\"cow\", \"over\"], \"*\")\n",
    "censor_string(\"Why did the chicken cross the road ?\", [\"Did\", \"chicken\", \"road\"], \"*\")"
   ]
  },
  {
   "cell_type": "markdown",
   "id": "cc3e9167",
   "metadata": {},
   "source": [
    "#### 4.In mathematics a Polydivisible Number (or magic number) is a number in a given number base with digits abcde... that has the following properties:\n",
    "Its first digit a is not 0.\n",
    "The number formed by its first two digits ab is a multiple of 2.\n",
    "The number formed by its first three digits abc is a multiple of 3.\n",
    "The number formed by its first four digits abcd is a multiple of 4. Create a function which takes an integer n and returns True if the given number is a Polydivisible Number and False otherwise.\n",
    "Examples:\n",
    "is_polydivisible(1232) ➞ True\n",
    "\n",
    "# 1     / 1 = 1\n",
    "# 12    / 2 = 6\n",
    "# 123   / 3 = 41\n",
    "# 1232  / 4 = 308\n",
    "is_polydivisible(123220 ) ➞ False\n",
    "\n",
    "# 1   / 1 = 1\n",
    "# 12   / 2 = 6\n",
    "# 123   / 3 = 41\n",
    "# 1232   / 4 = 308\n",
    "# 12322   / 5 = 2464.4         # Not a Whole Number\n",
    "# 123220   /6 = 220536.333...  # Not a Whole Number`"
   ]
  },
  {
   "cell_type": "code",
   "execution_count": 107,
   "id": "de870d02",
   "metadata": {},
   "outputs": [
    {
     "name": "stdout",
     "output_type": "stream",
     "text": [
      "is_polydivisible(1232) ➞ True\n",
      "is_polydivisible(123220) ➞ False\n"
     ]
    }
   ],
   "source": [
    "def is_polydivisible(in_num):\n",
    "    output = False\n",
    "    in_num_temp = str(in_num)\n",
    "    for ele in range(len(in_num_temp)):\n",
    "        if(int(in_num_temp[:ele+1])%(ele+1) == 0):\n",
    "            output = True\n",
    "        else:\n",
    "            output = False\n",
    "            break\n",
    "    print(f'is_polydivisible({in_num}) ➞ {output}')\n",
    "        \n",
    "is_polydivisible(1232)\n",
    "is_polydivisible(123220)"
   ]
  },
  {
   "cell_type": "code",
   "execution_count": null,
   "id": "8d51deaa",
   "metadata": {},
   "outputs": [],
   "source": []
  }
 ],
 "metadata": {
  "kernelspec": {
   "display_name": "Python 3 (ipykernel)",
   "language": "python",
   "name": "python3"
  },
  "language_info": {
   "codemirror_mode": {
    "name": "ipython",
    "version": 3
   },
   "file_extension": ".py",
   "mimetype": "text/x-python",
   "name": "python",
   "nbconvert_exporter": "python",
   "pygments_lexer": "ipython3",
   "version": "3.9.7"
  }
 },
 "nbformat": 4,
 "nbformat_minor": 5
}
